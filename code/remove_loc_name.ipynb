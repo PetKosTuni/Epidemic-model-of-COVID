{
 "cells": [
  {
   "cell_type": "code",
   "execution_count": 1,
   "metadata": {},
   "outputs": [
    {
     "name": "stdout",
     "output_type": "stream",
     "text": [
      "Index(['forecast_date', 'target', 'target_end_date', 'location', 'type',\n",
      "       'quantile', 'value'],\n",
      "      dtype='object')\n"
     ]
    }
   ],
   "source": [
    "import pandas as pd\n",
    "\n",
    "df_state = pd.read_csv(\"../2021-09-05-UCLA-SuEIR_state.csv\",  dtype=str)\n",
    "# df_county = pd.read_csv(\"../2021-03-07-UCLA-SuEIR_county.csv\",  dtype=str)\n",
    "# df_hosp = pd.read_csv(\"../2021-03-07-UCLA-SuEIR_hosp.csv\",  dtype=str)\n",
    "\n",
    "# df_hosp.drop(\"location_name\", axis=1, inplace=True)\n",
    "# df_county.drop(\"location_name\", axis=1, inplace=True)\n",
    "df_state = df_state[df_state[\"location_name\"] != \"Vermont\"]\n",
    "df_state.drop(\"location_name\", axis=1, inplace=True)\n",
    "# print(df_hosp.columns)\n",
    "# df_hosp[\"forecast_date\"]=\"2020-07-19\"\n",
    "# for row in df_states\n",
    "\n",
    "# for i in range(8):\n",
    "#     index = df_state[df_state[\"target\"]==str(i+1) + \" wk ahead inc case\"].index.tolist()\n",
    "#     df_state = df_state.drop(index)\n",
    "# #     index = df_county[df_county[\"target\"]==str(i+1) + \" wk ahead inc case\"].index.tolist()\n",
    "# #     df_county = df_county.drop(index)\n",
    "# #     index=df_county[df_county[\"target\"]==str(i+1) + \" wk ahead inc death\"].index.tolist()\n",
    "# #     df_county=df_county.drop(index)\n",
    "# #     index=df_county[df_county[\"target\"]==str(i+1) + \" wk ahead cum death\"].index.tolist()\n",
    "# #     df_county=df_county.drop(index)\n",
    "\n",
    "df_all = pd.concat([df_state],sort=False)\n",
    "print(df_all.columns)\n",
    "\n",
    "\n",
    "\n",
    "\n",
    "df_all.to_csv(\"2021-09-05-UCLA-SuEIR.csv\",index=False)"
   ]
  },
  {
   "cell_type": "code",
   "execution_count": 16,
   "metadata": {},
   "outputs": [],
   "source": [
    "df_state = pd.read_csv(\"../2021-06-20-UCLA-SuEIR_state.csv\",  dtype=str)\n",
    "# df_state[\"location_name\"]\n",
    "# index_bad = []\n",
    "# for i, name in zip(range(len(df_state[\"location_name\"])), df_state[\"location_name\"]):\n",
    "#     if name == \"Vermont\":\n",
    "#         index_bad += [i]\n",
    "#         print (df_state.loc[i])\n",
    "# print (index_bad)\n",
    "df_state = df_state[df_state[\"location_name\"] != \"Vermont\"]\n",
    "df_state.to_csv(\"2021-06-20-UCLA-test.csv\",index=False)"
   ]
  },
  {
   "cell_type": "code",
   "execution_count": null,
   "metadata": {},
   "outputs": [],
   "source": []
  },
  {
   "cell_type": "code",
   "execution_count": null,
   "metadata": {},
   "outputs": [],
   "source": []
  },
  {
   "cell_type": "code",
   "execution_count": 10,
   "metadata": {},
   "outputs": [
    {
     "name": "stdout",
     "output_type": "stream",
     "text": [
      "loss:  (0.850850172852721, 1.1703567444216532, 0.8828008300096141)\n",
      "err:  (1.0, -1.0)\n",
      "norm of parameter 0.025927545342829993\n",
      "loss:  (0.25932279613019693, 2.2395001504781504, 0.4573405315649922)\n",
      "err:  (1.0, -1.0)\n",
      "norm of parameter 4.349244857927335\n",
      "loss:  (0.20813014350740275, 1.797457158860509, 0.36706284504271336)\n",
      "err:  (1.0, -1.0)\n",
      "norm of parameter 10.959541501974815\n",
      "loss:  (0.17384250418972794, 1.501353062705727, 0.3065935600413279)\n",
      "err:  (1.0, -1.0)\n",
      "norm of parameter 19.053897905091233\n",
      "loss:  (0.14926722242864113, 1.2891220691519134, 0.2632527071009683)\n",
      "err:  (1.0, -1.0)\n",
      "norm of parameter 27.7967757636722\n",
      "loss:  (0.13078730364833627, 1.12952948491036, 0.23066152177453866)\n",
      "err:  (1.0, -1.0)\n",
      "norm of parameter 36.781804667789075\n",
      "loss:  (0.11638402968157019, 1.005142273550812, 0.20525985406849429)\n",
      "err:  (1.0, -0.2)\n",
      "norm of parameter 45.79776520589237\n",
      "loss:  (0.10484177170627725, 0.905462533288059, 0.18490384786445546)\n",
      "err:  (1.0, 1.0)\n",
      "norm of parameter 54.73081672944618\n",
      "loss:  (0.09538467242374232, 0.8237900931371325, 0.16822521449508135)\n",
      "err:  (1.0, 1.0)\n",
      "norm of parameter 63.519024115179334\n",
      "loss:  (0.0874942322046322, 0.7556472613064947, 0.15430953511481846)\n",
      "err:  (1.0, 1.0)\n",
      "norm of parameter 72.12946572287387\n",
      "[[0.09448206]\n",
      " [0.07519234]\n",
      " [0.08986311]\n",
      " ...\n",
      " [0.10254381]\n",
      " [0.0298412 ]\n",
      " [0.11239735]]\n"
     ]
    }
   ],
   "source": [
    "import numpy as np\n",
    "d = 10000\n",
    "n = 100\n",
    "flip_num = 10\n",
    "mu = np.ones([n,d])/np.sqrt(d)\n",
    "X_pos = np.random.randn(n, d)/np.sqrt(d) + mu\n",
    "X_neg = np.random.randn(n, d)/np.sqrt(d) - mu\n",
    "\n",
    "Y_pos = np.ones([n,1])\n",
    "Y_neg = -1 * np.ones([n,1])\n",
    "\n",
    "\n",
    "X_pos[-flip_num:,:] = X_pos[-flip_num:,:] * -1\n",
    "\n",
    "# Y_pos[-flip_num:,:] = Y_pos[-flip_num:,:] * -1\n",
    "# Y_neg[-flip_num:,:] = Y_neg[-flip_num:,:] * -1\n",
    "\n",
    "\n",
    "# X = np.stack([X_pos, X_neg], axis=0)\n",
    "# Y = np.stack([Y_pos, Y_neg], axis=0)\n",
    "\n",
    "def grad(w):\n",
    "    return -np.mean(np.exp(-X_pos.dot(w))*X_pos, axis=0, keepdims=True).T\n",
    "\n",
    "def loss(w):\n",
    "    return np.mean(np.exp(-X_pos[0:-flip_num,:].dot(w))), np.mean(np.exp(-X_pos[-flip_num:,:].dot(w))), np.mean(np.exp(-X_pos.dot(w)))\n",
    "def err(w):\n",
    "    return np.mean(np.sign(X_pos[0:-flip_num,:].dot(w))), np.mean(np.sign(X_pos[-flip_num:,:].dot(w)))\n",
    "w = np.zeros([d,1])\n",
    "for i in range(1000):\n",
    "    w -= 0.2 * grad(w)\n",
    "    if i%100 == 0:\n",
    "        print(\"loss: \", loss(w))\n",
    "        print(\"err: \", err(w))\n",
    "        print(\"norm of parameter\", np.sum(w**2))\n",
    "print (w)\n",
    "    \n"
   ]
  },
  {
   "cell_type": "code",
   "execution_count": null,
   "metadata": {},
   "outputs": [],
   "source": [
    "print (Y_pos[-2:,:])"
   ]
  },
  {
   "cell_type": "code",
   "execution_count": null,
   "metadata": {},
   "outputs": [],
   "source": []
  }
 ],
 "metadata": {
  "kernelspec": {
   "display_name": "Python 3",
   "language": "python",
   "name": "python3"
  },
  "language_info": {
   "codemirror_mode": {
    "name": "ipython",
    "version": 3
   },
   "file_extension": ".py",
   "mimetype": "text/x-python",
   "name": "python",
   "nbconvert_exporter": "python",
   "pygments_lexer": "ipython3",
   "version": "3.7.1"
  }
 },
 "nbformat": 4,
 "nbformat_minor": 2
}
